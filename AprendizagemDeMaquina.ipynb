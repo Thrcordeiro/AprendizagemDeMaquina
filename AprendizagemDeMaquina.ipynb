{
  "cells": [
    {
      "cell_type": "markdown",
      "metadata": {
        "id": "view-in-github",
        "colab_type": "text"
      },
      "source": [
        "<a href=\"https://colab.research.google.com/github/Thrcordeiro/AprenizagemDeMaquina/blob/main/AprendizagemDeMaquina.ipynb\" target=\"_parent\"><img src=\"https://colab.research.google.com/assets/colab-badge.svg\" alt=\"Open In Colab\"/></a>"
      ]
    },
    {
      "cell_type": "markdown",
      "metadata": {
        "id": "moNuE9go5Gzq"
      },
      "source": [
        "##UNIVERSIDADE FEDERAL DE PERNAMBUCO\n",
        "ESPECIALIZAÇÃO EM CIÊNCIA DE DADOS\n",
        "\n",
        "Aprendizagem de Máquina\n",
        "\n",
        "##Thaina Mariah Ramos Cordeiro"
      ],
      "id": "moNuE9go5Gzq"
    },
    {
      "cell_type": "markdown",
      "metadata": {
        "id": "jiEOxUib4nyT"
      },
      "source": [
        "Questão 1 -\n",
        " Usando a base de dados Porto Seguro’s Safe Driver Prediction\n",
        "\n",
        "1 para estimar quando um\n",
        "\n",
        "cliente irá acionar o seguro nos próximos 12 meses, pede-se:\n",
        "\n",
        "(a) Gere bases de treinamento, validação, e teste balanceadas realizando\n",
        "sub-amostragem da classe mais numerosa;\n",
        "\n",
        "(b) Considerando os atributos binários da base de dados como categóricos, avalie:\n",
        "\n",
        "(i) as taxas de acerto obtidas na base de teste com Regressão Logística e\n",
        "K-vizinhos mais próximos considerando apenas os atributos numéricos;\n",
        "\n",
        "(ii) as taxas de acerto obtidas na base de teste com Naive Bayes e Árvore de\n",
        "Decisão considerando apenas os atributos categóricos;\n",
        "\n",
        "(iii) a taxa de acerto obtida com Random Forest na base de teste considerando\n",
        "todos os atrbutos da base de dados;\n",
        "\n",
        "(iv) Quais as taxas de erro em (i), (ii), e (iii) considerando intervalo de confiança e confiabilidade de 90%?"
      ],
      "id": "jiEOxUib4nyT"
    },
    {
      "cell_type": "markdown",
      "metadata": {
        "id": "08168a24"
      },
      "source": [
        "## Importação de Libs"
      ],
      "id": "08168a24"
    },
    {
      "cell_type": "code",
      "execution_count": null,
      "metadata": {
        "colab": {
          "background_save": true,
          "base_uri": "https://localhost:8080/"
        },
        "id": "S1X88TPpBW7x",
        "outputId": "7fc9b748-b58a-4211-b740-95b541efff5b"
      },
      "outputs": [
        {
          "name": "stdout",
          "output_type": "stream",
          "text": [
            "Looking in indexes: https://pypi.org/simple, https://us-python.pkg.dev/colab-wheels/public/simple/\n",
            "Requirement already satisfied: scikit-plot in /usr/local/lib/python3.10/dist-packages (0.3.7)\n",
            "Requirement already satisfied: matplotlib>=1.4.0 in /usr/local/lib/python3.10/dist-packages (from scikit-plot) (3.7.1)\n",
            "Requirement already satisfied: scikit-learn>=0.18 in /usr/local/lib/python3.10/dist-packages (from scikit-plot) (1.2.2)\n",
            "Requirement already satisfied: scipy>=0.9 in /usr/local/lib/python3.10/dist-packages (from scikit-plot) (1.10.1)\n",
            "Requirement already satisfied: joblib>=0.10 in /usr/local/lib/python3.10/dist-packages (from scikit-plot) (1.2.0)\n",
            "Requirement already satisfied: contourpy>=1.0.1 in /usr/local/lib/python3.10/dist-packages (from matplotlib>=1.4.0->scikit-plot) (1.0.7)\n",
            "Requirement already satisfied: cycler>=0.10 in /usr/local/lib/python3.10/dist-packages (from matplotlib>=1.4.0->scikit-plot) (0.11.0)\n",
            "Requirement already satisfied: fonttools>=4.22.0 in /usr/local/lib/python3.10/dist-packages (from matplotlib>=1.4.0->scikit-plot) (4.39.3)\n",
            "Requirement already satisfied: kiwisolver>=1.0.1 in /usr/local/lib/python3.10/dist-packages (from matplotlib>=1.4.0->scikit-plot) (1.4.4)\n",
            "Requirement already satisfied: numpy>=1.20 in /usr/local/lib/python3.10/dist-packages (from matplotlib>=1.4.0->scikit-plot) (1.22.4)\n",
            "Requirement already satisfied: packaging>=20.0 in /usr/local/lib/python3.10/dist-packages (from matplotlib>=1.4.0->scikit-plot) (23.1)\n",
            "Requirement already satisfied: pillow>=6.2.0 in /usr/local/lib/python3.10/dist-packages (from matplotlib>=1.4.0->scikit-plot) (8.4.0)\n",
            "Requirement already satisfied: pyparsing>=2.3.1 in /usr/local/lib/python3.10/dist-packages (from matplotlib>=1.4.0->scikit-plot) (3.0.9)\n",
            "Requirement already satisfied: python-dateutil>=2.7 in /usr/local/lib/python3.10/dist-packages (from matplotlib>=1.4.0->scikit-plot) (2.8.2)\n",
            "Requirement already satisfied: threadpoolctl>=2.0.0 in /usr/local/lib/python3.10/dist-packages (from scikit-learn>=0.18->scikit-plot) (3.1.0)\n",
            "Requirement already satisfied: six>=1.5 in /usr/local/lib/python3.10/dist-packages (from python-dateutil>=2.7->matplotlib>=1.4.0->scikit-plot) (1.16.0)\n"
          ]
        }
      ],
      "source": [
        "!pip install scikit-plot"
      ],
      "id": "S1X88TPpBW7x"
    },
    {
      "cell_type": "code",
      "execution_count": null,
      "metadata": {
        "colab": {
          "background_save": true
        },
        "id": "aa8317fa"
      },
      "outputs": [],
      "source": [
        "import warnings\n",
        "warnings.filterwarnings(\"ignore\")\n",
        "\n",
        "import pandas as pd\n",
        "from imblearn.over_sampling import RandomOverSampler\n",
        "from imblearn.over_sampling import SMOTE\n",
        "from sklearn.model_selection import train_test_split\n",
        "from sklearn.metrics import confusion_matrix, accuracy_score, precision_score, recall_score, precision_recall_curve, f1_score, roc_curve, roc_auc_score\n",
        "import numpy as np\n",
        "\n",
        "from sklearn.metrics import mean_absolute_error, mean_squared_error\n",
        "from sklearn.linear_model import LinearRegression\n",
        "from scipy import stats\n",
        "\n",
        "from sklearn.tree import DecisionTreeClassifier\n",
        "from sklearn.ensemble import RandomForestClassifier\n",
        "import scikitplot as skplt\n",
        "\n",
        "from keras.models import Sequential\n",
        "from keras.layers import Dense\n"
      ],
      "id": "aa8317fa"
    },
    {
      "cell_type": "code",
      "execution_count": null,
      "metadata": {
        "colab": {
          "background_save": true
        },
        "id": "05844ad6"
      },
      "outputs": [],
      "source": [
        "df = pd.read_csv('/train.csv')"
      ],
      "id": "05844ad6"
    },
    {
      "cell_type": "code",
      "execution_count": null,
      "metadata": {
        "colab": {
          "background_save": true,
          "base_uri": "https://localhost:8080/",
          "height": 237
        },
        "id": "55c0893a",
        "outputId": "047667b3-07f6-4181-ba90-e28b43e8a794"
      },
      "outputs": [
        {
          "data": {
            "text/html": [
              "\n",
              "  <div id=\"df-64270b59-3078-4606-9201-2191a7862ba0\">\n",
              "    <div class=\"colab-df-container\">\n",
              "      <div>\n",
              "<style scoped>\n",
              "    .dataframe tbody tr th:only-of-type {\n",
              "        vertical-align: middle;\n",
              "    }\n",
              "\n",
              "    .dataframe tbody tr th {\n",
              "        vertical-align: top;\n",
              "    }\n",
              "\n",
              "    .dataframe thead th {\n",
              "        text-align: right;\n",
              "    }\n",
              "</style>\n",
              "<table border=\"1\" class=\"dataframe\">\n",
              "  <thead>\n",
              "    <tr style=\"text-align: right;\">\n",
              "      <th></th>\n",
              "      <th>id</th>\n",
              "      <th>target</th>\n",
              "      <th>ps_ind_01</th>\n",
              "      <th>ps_ind_02_cat</th>\n",
              "      <th>ps_ind_03</th>\n",
              "      <th>ps_ind_04_cat</th>\n",
              "      <th>ps_ind_05_cat</th>\n",
              "      <th>ps_ind_06_bin</th>\n",
              "      <th>ps_ind_07_bin</th>\n",
              "      <th>ps_ind_08_bin</th>\n",
              "      <th>...</th>\n",
              "      <th>ps_calc_11</th>\n",
              "      <th>ps_calc_12</th>\n",
              "      <th>ps_calc_13</th>\n",
              "      <th>ps_calc_14</th>\n",
              "      <th>ps_calc_15_bin</th>\n",
              "      <th>ps_calc_16_bin</th>\n",
              "      <th>ps_calc_17_bin</th>\n",
              "      <th>ps_calc_18_bin</th>\n",
              "      <th>ps_calc_19_bin</th>\n",
              "      <th>ps_calc_20_bin</th>\n",
              "    </tr>\n",
              "  </thead>\n",
              "  <tbody>\n",
              "    <tr>\n",
              "      <th>573489</th>\n",
              "      <td>1433904</td>\n",
              "      <td>0</td>\n",
              "      <td>0</td>\n",
              "      <td>1</td>\n",
              "      <td>6</td>\n",
              "      <td>0</td>\n",
              "      <td>0</td>\n",
              "      <td>0</td>\n",
              "      <td>0</td>\n",
              "      <td>0</td>\n",
              "      <td>...</td>\n",
              "      <td>4</td>\n",
              "      <td>4</td>\n",
              "      <td>5</td>\n",
              "      <td>7</td>\n",
              "      <td>0</td>\n",
              "      <td>0</td>\n",
              "      <td>0</td>\n",
              "      <td>0</td>\n",
              "      <td>0</td>\n",
              "      <td>0</td>\n",
              "    </tr>\n",
              "    <tr>\n",
              "      <th>446231</th>\n",
              "      <td>1115107</td>\n",
              "      <td>0</td>\n",
              "      <td>7</td>\n",
              "      <td>1</td>\n",
              "      <td>4</td>\n",
              "      <td>1</td>\n",
              "      <td>0</td>\n",
              "      <td>0</td>\n",
              "      <td>0</td>\n",
              "      <td>0</td>\n",
              "      <td>...</td>\n",
              "      <td>4</td>\n",
              "      <td>2</td>\n",
              "      <td>1</td>\n",
              "      <td>9</td>\n",
              "      <td>0</td>\n",
              "      <td>1</td>\n",
              "      <td>0</td>\n",
              "      <td>0</td>\n",
              "      <td>0</td>\n",
              "      <td>0</td>\n",
              "    </tr>\n",
              "    <tr>\n",
              "      <th>444979</th>\n",
              "      <td>1111979</td>\n",
              "      <td>0</td>\n",
              "      <td>0</td>\n",
              "      <td>2</td>\n",
              "      <td>1</td>\n",
              "      <td>1</td>\n",
              "      <td>0</td>\n",
              "      <td>0</td>\n",
              "      <td>1</td>\n",
              "      <td>0</td>\n",
              "      <td>...</td>\n",
              "      <td>3</td>\n",
              "      <td>1</td>\n",
              "      <td>2</td>\n",
              "      <td>6</td>\n",
              "      <td>0</td>\n",
              "      <td>1</td>\n",
              "      <td>1</td>\n",
              "      <td>1</td>\n",
              "      <td>1</td>\n",
              "      <td>0</td>\n",
              "    </tr>\n",
              "  </tbody>\n",
              "</table>\n",
              "<p>3 rows × 59 columns</p>\n",
              "</div>\n",
              "      <button class=\"colab-df-convert\" onclick=\"convertToInteractive('df-64270b59-3078-4606-9201-2191a7862ba0')\"\n",
              "              title=\"Convert this dataframe to an interactive table.\"\n",
              "              style=\"display:none;\">\n",
              "        \n",
              "  <svg xmlns=\"http://www.w3.org/2000/svg\" height=\"24px\"viewBox=\"0 0 24 24\"\n",
              "       width=\"24px\">\n",
              "    <path d=\"M0 0h24v24H0V0z\" fill=\"none\"/>\n",
              "    <path d=\"M18.56 5.44l.94 2.06.94-2.06 2.06-.94-2.06-.94-.94-2.06-.94 2.06-2.06.94zm-11 1L8.5 8.5l.94-2.06 2.06-.94-2.06-.94L8.5 2.5l-.94 2.06-2.06.94zm10 10l.94 2.06.94-2.06 2.06-.94-2.06-.94-.94-2.06-.94 2.06-2.06.94z\"/><path d=\"M17.41 7.96l-1.37-1.37c-.4-.4-.92-.59-1.43-.59-.52 0-1.04.2-1.43.59L10.3 9.45l-7.72 7.72c-.78.78-.78 2.05 0 2.83L4 21.41c.39.39.9.59 1.41.59.51 0 1.02-.2 1.41-.59l7.78-7.78 2.81-2.81c.8-.78.8-2.07 0-2.86zM5.41 20L4 18.59l7.72-7.72 1.47 1.35L5.41 20z\"/>\n",
              "  </svg>\n",
              "      </button>\n",
              "      \n",
              "  <style>\n",
              "    .colab-df-container {\n",
              "      display:flex;\n",
              "      flex-wrap:wrap;\n",
              "      gap: 12px;\n",
              "    }\n",
              "\n",
              "    .colab-df-convert {\n",
              "      background-color: #E8F0FE;\n",
              "      border: none;\n",
              "      border-radius: 50%;\n",
              "      cursor: pointer;\n",
              "      display: none;\n",
              "      fill: #1967D2;\n",
              "      height: 32px;\n",
              "      padding: 0 0 0 0;\n",
              "      width: 32px;\n",
              "    }\n",
              "\n",
              "    .colab-df-convert:hover {\n",
              "      background-color: #E2EBFA;\n",
              "      box-shadow: 0px 1px 2px rgba(60, 64, 67, 0.3), 0px 1px 3px 1px rgba(60, 64, 67, 0.15);\n",
              "      fill: #174EA6;\n",
              "    }\n",
              "\n",
              "    [theme=dark] .colab-df-convert {\n",
              "      background-color: #3B4455;\n",
              "      fill: #D2E3FC;\n",
              "    }\n",
              "\n",
              "    [theme=dark] .colab-df-convert:hover {\n",
              "      background-color: #434B5C;\n",
              "      box-shadow: 0px 1px 3px 1px rgba(0, 0, 0, 0.15);\n",
              "      filter: drop-shadow(0px 1px 2px rgba(0, 0, 0, 0.3));\n",
              "      fill: #FFFFFF;\n",
              "    }\n",
              "  </style>\n",
              "\n",
              "      <script>\n",
              "        const buttonEl =\n",
              "          document.querySelector('#df-64270b59-3078-4606-9201-2191a7862ba0 button.colab-df-convert');\n",
              "        buttonEl.style.display =\n",
              "          google.colab.kernel.accessAllowed ? 'block' : 'none';\n",
              "\n",
              "        async function convertToInteractive(key) {\n",
              "          const element = document.querySelector('#df-64270b59-3078-4606-9201-2191a7862ba0');\n",
              "          const dataTable =\n",
              "            await google.colab.kernel.invokeFunction('convertToInteractive',\n",
              "                                                     [key], {});\n",
              "          if (!dataTable) return;\n",
              "\n",
              "          const docLinkHtml = 'Like what you see? Visit the ' +\n",
              "            '<a target=\"_blank\" href=https://colab.research.google.com/notebooks/data_table.ipynb>data table notebook</a>'\n",
              "            + ' to learn more about interactive tables.';\n",
              "          element.innerHTML = '';\n",
              "          dataTable['output_type'] = 'display_data';\n",
              "          await google.colab.output.renderOutput(dataTable, element);\n",
              "          const docLink = document.createElement('div');\n",
              "          docLink.innerHTML = docLinkHtml;\n",
              "          element.appendChild(docLink);\n",
              "        }\n",
              "      </script>\n",
              "    </div>\n",
              "  </div>\n",
              "  "
            ],
            "text/plain": [
              "             id  target  ps_ind_01  ps_ind_02_cat  ps_ind_03  ps_ind_04_cat  \\\n",
              "573489  1433904       0          0              1          6              0   \n",
              "446231  1115107       0          7              1          4              1   \n",
              "444979  1111979       0          0              2          1              1   \n",
              "\n",
              "        ps_ind_05_cat  ps_ind_06_bin  ps_ind_07_bin  ps_ind_08_bin  ...  \\\n",
              "573489              0              0              0              0  ...   \n",
              "446231              0              0              0              0  ...   \n",
              "444979              0              0              1              0  ...   \n",
              "\n",
              "        ps_calc_11  ps_calc_12  ps_calc_13  ps_calc_14  ps_calc_15_bin  \\\n",
              "573489           4           4           5           7               0   \n",
              "446231           4           2           1           9               0   \n",
              "444979           3           1           2           6               0   \n",
              "\n",
              "        ps_calc_16_bin  ps_calc_17_bin  ps_calc_18_bin  ps_calc_19_bin  \\\n",
              "573489               0               0               0               0   \n",
              "446231               1               0               0               0   \n",
              "444979               1               1               1               1   \n",
              "\n",
              "        ps_calc_20_bin  \n",
              "573489               0  \n",
              "446231               0  \n",
              "444979               0  \n",
              "\n",
              "[3 rows x 59 columns]"
            ]
          },
          "execution_count": 23,
          "metadata": {},
          "output_type": "execute_result"
        }
      ],
      "source": [
        "df.sample(3)"
      ],
      "id": "55c0893a"
    },
    {
      "cell_type": "code",
      "execution_count": null,
      "metadata": {
        "colab": {
          "background_save": true,
          "base_uri": "https://localhost:8080/"
        },
        "id": "803ddab1",
        "outputId": "26d093f2-5ad4-4ec3-c9ea-8f55d380a313"
      },
      "outputs": [
        {
          "name": "stdout",
          "output_type": "stream",
          "text": [
            "<class 'pandas.core.frame.DataFrame'>\n",
            "RangeIndex: 595212 entries, 0 to 595211\n",
            "Data columns (total 59 columns):\n",
            " #   Column          Non-Null Count   Dtype  \n",
            "---  ------          --------------   -----  \n",
            " 0   id              595212 non-null  int64  \n",
            " 1   target          595212 non-null  int64  \n",
            " 2   ps_ind_01       595212 non-null  int64  \n",
            " 3   ps_ind_02_cat   595212 non-null  int64  \n",
            " 4   ps_ind_03       595212 non-null  int64  \n",
            " 5   ps_ind_04_cat   595212 non-null  int64  \n",
            " 6   ps_ind_05_cat   595212 non-null  int64  \n",
            " 7   ps_ind_06_bin   595212 non-null  int64  \n",
            " 8   ps_ind_07_bin   595212 non-null  int64  \n",
            " 9   ps_ind_08_bin   595212 non-null  int64  \n",
            " 10  ps_ind_09_bin   595212 non-null  int64  \n",
            " 11  ps_ind_10_bin   595212 non-null  int64  \n",
            " 12  ps_ind_11_bin   595212 non-null  int64  \n",
            " 13  ps_ind_12_bin   595212 non-null  int64  \n",
            " 14  ps_ind_13_bin   595212 non-null  int64  \n",
            " 15  ps_ind_14       595212 non-null  int64  \n",
            " 16  ps_ind_15       595212 non-null  int64  \n",
            " 17  ps_ind_16_bin   595212 non-null  int64  \n",
            " 18  ps_ind_17_bin   595212 non-null  int64  \n",
            " 19  ps_ind_18_bin   595212 non-null  int64  \n",
            " 20  ps_reg_01       595212 non-null  float64\n",
            " 21  ps_reg_02       595212 non-null  float64\n",
            " 22  ps_reg_03       595212 non-null  float64\n",
            " 23  ps_car_01_cat   595212 non-null  int64  \n",
            " 24  ps_car_02_cat   595212 non-null  int64  \n",
            " 25  ps_car_03_cat   595212 non-null  int64  \n",
            " 26  ps_car_04_cat   595212 non-null  int64  \n",
            " 27  ps_car_05_cat   595212 non-null  int64  \n",
            " 28  ps_car_06_cat   595212 non-null  int64  \n",
            " 29  ps_car_07_cat   595212 non-null  int64  \n",
            " 30  ps_car_08_cat   595212 non-null  int64  \n",
            " 31  ps_car_09_cat   595212 non-null  int64  \n",
            " 32  ps_car_10_cat   595212 non-null  int64  \n",
            " 33  ps_car_11_cat   595212 non-null  int64  \n",
            " 34  ps_car_11       595212 non-null  int64  \n",
            " 35  ps_car_12       595212 non-null  float64\n",
            " 36  ps_car_13       595212 non-null  float64\n",
            " 37  ps_car_14       595212 non-null  float64\n",
            " 38  ps_car_15       595212 non-null  float64\n",
            " 39  ps_calc_01      595212 non-null  float64\n",
            " 40  ps_calc_02      595212 non-null  float64\n",
            " 41  ps_calc_03      595212 non-null  float64\n",
            " 42  ps_calc_04      595212 non-null  int64  \n",
            " 43  ps_calc_05      595212 non-null  int64  \n",
            " 44  ps_calc_06      595212 non-null  int64  \n",
            " 45  ps_calc_07      595212 non-null  int64  \n",
            " 46  ps_calc_08      595212 non-null  int64  \n",
            " 47  ps_calc_09      595212 non-null  int64  \n",
            " 48  ps_calc_10      595212 non-null  int64  \n",
            " 49  ps_calc_11      595212 non-null  int64  \n",
            " 50  ps_calc_12      595212 non-null  int64  \n",
            " 51  ps_calc_13      595212 non-null  int64  \n",
            " 52  ps_calc_14      595212 non-null  int64  \n",
            " 53  ps_calc_15_bin  595212 non-null  int64  \n",
            " 54  ps_calc_16_bin  595212 non-null  int64  \n",
            " 55  ps_calc_17_bin  595212 non-null  int64  \n",
            " 56  ps_calc_18_bin  595212 non-null  int64  \n",
            " 57  ps_calc_19_bin  595212 non-null  int64  \n",
            " 58  ps_calc_20_bin  595212 non-null  int64  \n",
            "dtypes: float64(10), int64(49)\n",
            "memory usage: 267.9 MB\n"
          ]
        }
      ],
      "source": [
        "df.info()"
      ],
      "id": "803ddab1"
    },
    {
      "cell_type": "code",
      "execution_count": null,
      "metadata": {
        "id": "2697b1cf"
      },
      "outputs": [],
      "source": [
        "df1 = df.copy()"
      ],
      "id": "2697b1cf"
    },
    {
      "cell_type": "code",
      "execution_count": null,
      "metadata": {
        "colab": {
          "base_uri": "https://localhost:8080/"
        },
        "id": "3c2bebc4",
        "outputId": "f53fc3f0-5747-41b6-dc75-7ae271a68ea3"
      },
      "outputs": [
        {
          "data": {
            "text/plain": [
              "(595212, 59)"
            ]
          },
          "execution_count": 13,
          "metadata": {},
          "output_type": "execute_result"
        }
      ],
      "source": [
        "df1.shape"
      ],
      "id": "3c2bebc4"
    },
    {
      "cell_type": "code",
      "execution_count": null,
      "metadata": {
        "colab": {
          "base_uri": "https://localhost:8080/"
        },
        "id": "8879c548",
        "outputId": "09fa30de-6dee-4b0c-803e-e4429ac858fd"
      },
      "outputs": [
        {
          "data": {
            "text/plain": [
              "Index(['id', 'target', 'ps_ind_01', 'ps_ind_02_cat', 'ps_ind_03',\n",
              "       'ps_ind_04_cat', 'ps_ind_05_cat', 'ps_ind_06_bin', 'ps_ind_07_bin',\n",
              "       'ps_ind_08_bin', 'ps_ind_09_bin', 'ps_ind_10_bin', 'ps_ind_11_bin',\n",
              "       'ps_ind_12_bin', 'ps_ind_13_bin', 'ps_ind_14', 'ps_ind_15',\n",
              "       'ps_ind_16_bin', 'ps_ind_17_bin', 'ps_ind_18_bin', 'ps_reg_01',\n",
              "       'ps_reg_02', 'ps_reg_03', 'ps_car_01_cat', 'ps_car_02_cat',\n",
              "       'ps_car_03_cat', 'ps_car_04_cat', 'ps_car_05_cat', 'ps_car_06_cat',\n",
              "       'ps_car_07_cat', 'ps_car_08_cat', 'ps_car_09_cat', 'ps_car_10_cat',\n",
              "       'ps_car_11_cat', 'ps_car_11', 'ps_car_12', 'ps_car_13', 'ps_car_14',\n",
              "       'ps_car_15', 'ps_calc_01', 'ps_calc_02', 'ps_calc_03', 'ps_calc_04',\n",
              "       'ps_calc_05', 'ps_calc_06', 'ps_calc_07', 'ps_calc_08', 'ps_calc_09',\n",
              "       'ps_calc_10', 'ps_calc_11', 'ps_calc_12', 'ps_calc_13', 'ps_calc_14',\n",
              "       'ps_calc_15_bin', 'ps_calc_16_bin', 'ps_calc_17_bin', 'ps_calc_18_bin',\n",
              "       'ps_calc_19_bin', 'ps_calc_20_bin'],\n",
              "      dtype='object')"
            ]
          },
          "execution_count": 14,
          "metadata": {},
          "output_type": "execute_result"
        }
      ],
      "source": [
        "df1.columns"
      ],
      "id": "8879c548"
    },
    {
      "cell_type": "code",
      "execution_count": null,
      "metadata": {
        "id": "d6b67f3a"
      },
      "outputs": [],
      "source": [
        "# Filtrando dados binarios e categóricos\n",
        "\n",
        "df1 = df1.drop(columns=['id', 'target', 'ps_ind_01','ps_ind_03','ps_ind_14','ps_ind_15','ps_reg_01','ps_reg_02', 'ps_reg_03','ps_car_11', 'ps_car_12', 'ps_car_13', 'ps_car_14','ps_car_15', 'ps_calc_01', 'ps_calc_02', 'ps_calc_03', 'ps_calc_04','ps_calc_05', 'ps_calc_06', 'ps_calc_07', 'ps_calc_08', 'ps_calc_09','ps_calc_10', 'ps_calc_11', 'ps_calc_12', 'ps_calc_13', 'ps_calc_14'], axis=1)"
      ],
      "id": "d6b67f3a"
    },
    {
      "cell_type": "code",
      "execution_count": null,
      "metadata": {
        "colab": {
          "base_uri": "https://localhost:8080/"
        },
        "id": "4f89f0ab",
        "outputId": "f5653278-fab2-4db5-82aa-1977bd4d2ba2"
      },
      "outputs": [
        {
          "data": {
            "text/plain": [
              "Index(['ps_ind_02_cat', 'ps_ind_04_cat', 'ps_ind_05_cat', 'ps_ind_06_bin',\n",
              "       'ps_ind_07_bin', 'ps_ind_08_bin', 'ps_ind_09_bin', 'ps_ind_10_bin',\n",
              "       'ps_ind_11_bin', 'ps_ind_12_bin', 'ps_ind_13_bin', 'ps_ind_16_bin',\n",
              "       'ps_ind_17_bin', 'ps_ind_18_bin', 'ps_car_01_cat', 'ps_car_02_cat',\n",
              "       'ps_car_03_cat', 'ps_car_04_cat', 'ps_car_05_cat', 'ps_car_06_cat',\n",
              "       'ps_car_07_cat', 'ps_car_08_cat', 'ps_car_09_cat', 'ps_car_10_cat',\n",
              "       'ps_car_11_cat', 'ps_calc_15_bin', 'ps_calc_16_bin', 'ps_calc_17_bin',\n",
              "       'ps_calc_18_bin', 'ps_calc_19_bin', 'ps_calc_20_bin'],\n",
              "      dtype='object')"
            ]
          },
          "execution_count": 16,
          "metadata": {},
          "output_type": "execute_result"
        }
      ],
      "source": [
        "df1.columns"
      ],
      "id": "4f89f0ab"
    },
    {
      "cell_type": "code",
      "execution_count": null,
      "metadata": {
        "id": "25b797bb"
      },
      "outputs": [],
      "source": [
        "# Gerando bases de treinamento, validação, e teste balanceadas, sendo realizado sub-amostragem da classe mais numerosa.\n",
        "\n",
        "X = df1\n",
        "y = df.target"
      ],
      "id": "25b797bb"
    },
    {
      "cell_type": "code",
      "execution_count": null,
      "metadata": {
        "id": "c8ab971d"
      },
      "outputs": [],
      "source": [
        "# Criando base de validação\n",
        "X, X_val, y, y_val = train_test_split(X, y, test_size=0.2, random_state=42)"
      ],
      "id": "c8ab971d"
    },
    {
      "cell_type": "code",
      "execution_count": null,
      "metadata": {
        "id": "f9c798de"
      },
      "outputs": [],
      "source": [
        "# Criando base de Treinamento e Teste\n",
        "X_train, X_test, y_train, y_test = train_test_split(X, y)"
      ],
      "id": "f9c798de"
    },
    {
      "cell_type": "code",
      "execution_count": null,
      "metadata": {
        "id": "72faeec5"
      },
      "outputs": [],
      "source": [
        "# Balanceamento de dados\n",
        "#Aplicando UnderSampling\n",
        "seed = 6\n",
        "np.random.seed(seed)\n",
        "\n",
        "## SMOTE\n",
        "rus = SMOTE(random_state=seed)\n",
        "X_rus, y_rus = rus.fit_resample(X_train, y_train)"
      ],
      "id": "72faeec5"
    },
    {
      "cell_type": "code",
      "execution_count": null,
      "metadata": {
        "id": "156a3d71",
        "outputId": "499e2251-6670-47d9-8569-51673e1589bd"
      },
      "outputs": [
        {
          "data": {
            "text/html": [
              "<div>\n",
              "<style scoped>\n",
              "    .dataframe tbody tr th:only-of-type {\n",
              "        vertical-align: middle;\n",
              "    }\n",
              "\n",
              "    .dataframe tbody tr th {\n",
              "        vertical-align: top;\n",
              "    }\n",
              "\n",
              "    .dataframe thead th {\n",
              "        text-align: right;\n",
              "    }\n",
              "</style>\n",
              "<table border=\"1\" class=\"dataframe\">\n",
              "  <thead>\n",
              "    <tr style=\"text-align: right;\">\n",
              "      <th></th>\n",
              "      <th>ps_ind_02_cat</th>\n",
              "      <th>ps_ind_04_cat</th>\n",
              "      <th>ps_ind_05_cat</th>\n",
              "      <th>ps_ind_06_bin</th>\n",
              "      <th>ps_ind_07_bin</th>\n",
              "      <th>ps_ind_08_bin</th>\n",
              "      <th>ps_ind_09_bin</th>\n",
              "      <th>ps_ind_10_bin</th>\n",
              "      <th>ps_ind_11_bin</th>\n",
              "      <th>ps_ind_12_bin</th>\n",
              "      <th>...</th>\n",
              "      <th>ps_car_08_cat</th>\n",
              "      <th>ps_car_09_cat</th>\n",
              "      <th>ps_car_10_cat</th>\n",
              "      <th>ps_car_11_cat</th>\n",
              "      <th>ps_calc_15_bin</th>\n",
              "      <th>ps_calc_16_bin</th>\n",
              "      <th>ps_calc_17_bin</th>\n",
              "      <th>ps_calc_18_bin</th>\n",
              "      <th>ps_calc_19_bin</th>\n",
              "      <th>ps_calc_20_bin</th>\n",
              "    </tr>\n",
              "  </thead>\n",
              "  <tbody>\n",
              "    <tr>\n",
              "      <th>0</th>\n",
              "      <td>1</td>\n",
              "      <td>0</td>\n",
              "      <td>0</td>\n",
              "      <td>0</td>\n",
              "      <td>1</td>\n",
              "      <td>0</td>\n",
              "      <td>0</td>\n",
              "      <td>0</td>\n",
              "      <td>0</td>\n",
              "      <td>0</td>\n",
              "      <td>...</td>\n",
              "      <td>1</td>\n",
              "      <td>2</td>\n",
              "      <td>1</td>\n",
              "      <td>104</td>\n",
              "      <td>0</td>\n",
              "      <td>0</td>\n",
              "      <td>1</td>\n",
              "      <td>0</td>\n",
              "      <td>1</td>\n",
              "      <td>0</td>\n",
              "    </tr>\n",
              "    <tr>\n",
              "      <th>1</th>\n",
              "      <td>1</td>\n",
              "      <td>0</td>\n",
              "      <td>0</td>\n",
              "      <td>0</td>\n",
              "      <td>0</td>\n",
              "      <td>0</td>\n",
              "      <td>1</td>\n",
              "      <td>0</td>\n",
              "      <td>0</td>\n",
              "      <td>0</td>\n",
              "      <td>...</td>\n",
              "      <td>1</td>\n",
              "      <td>0</td>\n",
              "      <td>1</td>\n",
              "      <td>80</td>\n",
              "      <td>0</td>\n",
              "      <td>0</td>\n",
              "      <td>1</td>\n",
              "      <td>0</td>\n",
              "      <td>0</td>\n",
              "      <td>0</td>\n",
              "    </tr>\n",
              "    <tr>\n",
              "      <th>2</th>\n",
              "      <td>1</td>\n",
              "      <td>1</td>\n",
              "      <td>0</td>\n",
              "      <td>1</td>\n",
              "      <td>0</td>\n",
              "      <td>0</td>\n",
              "      <td>0</td>\n",
              "      <td>0</td>\n",
              "      <td>0</td>\n",
              "      <td>0</td>\n",
              "      <td>...</td>\n",
              "      <td>1</td>\n",
              "      <td>1</td>\n",
              "      <td>1</td>\n",
              "      <td>104</td>\n",
              "      <td>0</td>\n",
              "      <td>1</td>\n",
              "      <td>0</td>\n",
              "      <td>0</td>\n",
              "      <td>1</td>\n",
              "      <td>0</td>\n",
              "    </tr>\n",
              "    <tr>\n",
              "      <th>3</th>\n",
              "      <td>1</td>\n",
              "      <td>0</td>\n",
              "      <td>0</td>\n",
              "      <td>1</td>\n",
              "      <td>0</td>\n",
              "      <td>0</td>\n",
              "      <td>0</td>\n",
              "      <td>0</td>\n",
              "      <td>0</td>\n",
              "      <td>0</td>\n",
              "      <td>...</td>\n",
              "      <td>1</td>\n",
              "      <td>2</td>\n",
              "      <td>1</td>\n",
              "      <td>104</td>\n",
              "      <td>0</td>\n",
              "      <td>1</td>\n",
              "      <td>0</td>\n",
              "      <td>1</td>\n",
              "      <td>1</td>\n",
              "      <td>0</td>\n",
              "    </tr>\n",
              "    <tr>\n",
              "      <th>4</th>\n",
              "      <td>1</td>\n",
              "      <td>1</td>\n",
              "      <td>0</td>\n",
              "      <td>1</td>\n",
              "      <td>0</td>\n",
              "      <td>0</td>\n",
              "      <td>0</td>\n",
              "      <td>0</td>\n",
              "      <td>0</td>\n",
              "      <td>0</td>\n",
              "      <td>...</td>\n",
              "      <td>1</td>\n",
              "      <td>0</td>\n",
              "      <td>1</td>\n",
              "      <td>19</td>\n",
              "      <td>0</td>\n",
              "      <td>1</td>\n",
              "      <td>1</td>\n",
              "      <td>0</td>\n",
              "      <td>0</td>\n",
              "      <td>1</td>\n",
              "    </tr>\n",
              "  </tbody>\n",
              "</table>\n",
              "<p>5 rows × 31 columns</p>\n",
              "</div>"
            ],
            "text/plain": [
              "   ps_ind_02_cat  ps_ind_04_cat  ps_ind_05_cat  ps_ind_06_bin  ps_ind_07_bin   \n",
              "0              1              0              0              0              1  \\\n",
              "1              1              0              0              0              0   \n",
              "2              1              1              0              1              0   \n",
              "3              1              0              0              1              0   \n",
              "4              1              1              0              1              0   \n",
              "\n",
              "   ps_ind_08_bin  ps_ind_09_bin  ps_ind_10_bin  ps_ind_11_bin  ps_ind_12_bin   \n",
              "0              0              0              0              0              0  \\\n",
              "1              0              1              0              0              0   \n",
              "2              0              0              0              0              0   \n",
              "3              0              0              0              0              0   \n",
              "4              0              0              0              0              0   \n",
              "\n",
              "   ...  ps_car_08_cat  ps_car_09_cat  ps_car_10_cat  ps_car_11_cat   \n",
              "0  ...              1              2              1            104  \\\n",
              "1  ...              1              0              1             80   \n",
              "2  ...              1              1              1            104   \n",
              "3  ...              1              2              1            104   \n",
              "4  ...              1              0              1             19   \n",
              "\n",
              "   ps_calc_15_bin  ps_calc_16_bin  ps_calc_17_bin  ps_calc_18_bin   \n",
              "0               0               0               1               0  \\\n",
              "1               0               0               1               0   \n",
              "2               0               1               0               0   \n",
              "3               0               1               0               1   \n",
              "4               0               1               1               0   \n",
              "\n",
              "   ps_calc_19_bin  ps_calc_20_bin  \n",
              "0               1               0  \n",
              "1               0               0  \n",
              "2               1               0  \n",
              "3               1               0  \n",
              "4               0               1  \n",
              "\n",
              "[5 rows x 31 columns]"
            ]
          },
          "execution_count": 33,
          "metadata": {},
          "output_type": "execute_result"
        }
      ],
      "source": [
        "X_rus.head()"
      ],
      "id": "156a3d71"
    },
    {
      "cell_type": "markdown",
      "metadata": {
        "id": "9fd7589f"
      },
      "source": [
        "# Regressão Logística e KNN"
      ],
      "id": "9fd7589f"
    },
    {
      "cell_type": "code",
      "execution_count": null,
      "metadata": {
        "id": "cbb05bd1",
        "outputId": "c25d6075-c7b5-47e9-f3d4-abe6a1553402"
      },
      "outputs": [
        {
          "data": {
            "text/plain": [
              "Index(['ps_ind_02_cat', 'ps_ind_04_cat', 'ps_ind_05_cat', 'ps_ind_06_bin',\n",
              "       'ps_ind_07_bin', 'ps_ind_08_bin', 'ps_ind_09_bin', 'ps_ind_10_bin',\n",
              "       'ps_ind_11_bin', 'ps_ind_12_bin', 'ps_ind_13_bin', 'ps_ind_16_bin',\n",
              "       'ps_ind_17_bin', 'ps_ind_18_bin', 'ps_car_01_cat', 'ps_car_02_cat',\n",
              "       'ps_car_03_cat', 'ps_car_04_cat', 'ps_car_05_cat', 'ps_car_06_cat',\n",
              "       'ps_car_07_cat', 'ps_car_08_cat', 'ps_car_09_cat', 'ps_car_10_cat',\n",
              "       'ps_car_11_cat', 'ps_calc_15_bin', 'ps_calc_16_bin', 'ps_calc_17_bin',\n",
              "       'ps_calc_18_bin', 'ps_calc_19_bin', 'ps_calc_20_bin'],\n",
              "      dtype='object')"
            ]
          },
          "execution_count": 34,
          "metadata": {},
          "output_type": "execute_result"
        }
      ],
      "source": [
        "# Preparação do DataSet\n",
        "\n",
        "X_rus.columns"
      ],
      "id": "cbb05bd1"
    },
    {
      "cell_type": "code",
      "execution_count": null,
      "metadata": {
        "id": "7942dda3"
      },
      "outputs": [],
      "source": [
        "X_rus_1 = X_rus.drop(columns=['ps_ind_02_cat', 'ps_ind_04_cat', 'ps_ind_05_cat','ps_car_01_cat', 'ps_car_02_cat','ps_car_03_cat', 'ps_car_04_cat', 'ps_car_05_cat', 'ps_car_06_cat','ps_car_07_cat', 'ps_car_08_cat', 'ps_car_09_cat', 'ps_car_10_cat','ps_car_11_cat'], axis=1)"
      ],
      "id": "7942dda3"
    },
    {
      "cell_type": "code",
      "execution_count": null,
      "metadata": {
        "id": "83ef0f7a"
      },
      "outputs": [],
      "source": [
        "X_test_1 = X_test.drop(columns=['ps_ind_02_cat', 'ps_ind_04_cat', 'ps_ind_05_cat','ps_car_01_cat', 'ps_car_02_cat','ps_car_03_cat', 'ps_car_04_cat', 'ps_car_05_cat', 'ps_car_06_cat','ps_car_07_cat', 'ps_car_08_cat', 'ps_car_09_cat', 'ps_car_10_cat','ps_car_11_cat'], axis=1)"
      ],
      "id": "83ef0f7a"
    },
    {
      "cell_type": "markdown",
      "metadata": {
        "id": "6931fc1a"
      },
      "source": [
        "### Regressão Logistica"
      ],
      "id": "6931fc1a"
    },
    {
      "cell_type": "code",
      "execution_count": null,
      "metadata": {
        "id": "f534485a"
      },
      "outputs": [],
      "source": [
        "y_rus_1 = y_rus"
      ],
      "id": "f534485a"
    },
    {
      "cell_type": "code",
      "execution_count": null,
      "metadata": {
        "id": "ee9cf4a6"
      },
      "outputs": [],
      "source": [
        "from sklearn.linear_model import LogisticRegression\n",
        "\n",
        "model_lg = LogisticRegression(penalty='none', solver='newton-cg')"
      ],
      "id": "ee9cf4a6"
    },
    {
      "cell_type": "code",
      "execution_count": null,
      "metadata": {
        "id": "3b95b89d",
        "outputId": "e29566fa-c750-4b4a-ac8a-5ff0e69bb65a"
      },
      "outputs": [
        {
          "data": {
            "text/html": [
              "<style>#sk-container-id-1 {color: black;background-color: white;}#sk-container-id-1 pre{padding: 0;}#sk-container-id-1 div.sk-toggleable {background-color: white;}#sk-container-id-1 label.sk-toggleable__label {cursor: pointer;display: block;width: 100%;margin-bottom: 0;padding: 0.3em;box-sizing: border-box;text-align: center;}#sk-container-id-1 label.sk-toggleable__label-arrow:before {content: \"▸\";float: left;margin-right: 0.25em;color: #696969;}#sk-container-id-1 label.sk-toggleable__label-arrow:hover:before {color: black;}#sk-container-id-1 div.sk-estimator:hover label.sk-toggleable__label-arrow:before {color: black;}#sk-container-id-1 div.sk-toggleable__content {max-height: 0;max-width: 0;overflow: hidden;text-align: left;background-color: #f0f8ff;}#sk-container-id-1 div.sk-toggleable__content pre {margin: 0.2em;color: black;border-radius: 0.25em;background-color: #f0f8ff;}#sk-container-id-1 input.sk-toggleable__control:checked~div.sk-toggleable__content {max-height: 200px;max-width: 100%;overflow: auto;}#sk-container-id-1 input.sk-toggleable__control:checked~label.sk-toggleable__label-arrow:before {content: \"▾\";}#sk-container-id-1 div.sk-estimator input.sk-toggleable__control:checked~label.sk-toggleable__label {background-color: #d4ebff;}#sk-container-id-1 div.sk-label input.sk-toggleable__control:checked~label.sk-toggleable__label {background-color: #d4ebff;}#sk-container-id-1 input.sk-hidden--visually {border: 0;clip: rect(1px 1px 1px 1px);clip: rect(1px, 1px, 1px, 1px);height: 1px;margin: -1px;overflow: hidden;padding: 0;position: absolute;width: 1px;}#sk-container-id-1 div.sk-estimator {font-family: monospace;background-color: #f0f8ff;border: 1px dotted black;border-radius: 0.25em;box-sizing: border-box;margin-bottom: 0.5em;}#sk-container-id-1 div.sk-estimator:hover {background-color: #d4ebff;}#sk-container-id-1 div.sk-parallel-item::after {content: \"\";width: 100%;border-bottom: 1px solid gray;flex-grow: 1;}#sk-container-id-1 div.sk-label:hover label.sk-toggleable__label {background-color: #d4ebff;}#sk-container-id-1 div.sk-serial::before {content: \"\";position: absolute;border-left: 1px solid gray;box-sizing: border-box;top: 0;bottom: 0;left: 50%;z-index: 0;}#sk-container-id-1 div.sk-serial {display: flex;flex-direction: column;align-items: center;background-color: white;padding-right: 0.2em;padding-left: 0.2em;position: relative;}#sk-container-id-1 div.sk-item {position: relative;z-index: 1;}#sk-container-id-1 div.sk-parallel {display: flex;align-items: stretch;justify-content: center;background-color: white;position: relative;}#sk-container-id-1 div.sk-item::before, #sk-container-id-1 div.sk-parallel-item::before {content: \"\";position: absolute;border-left: 1px solid gray;box-sizing: border-box;top: 0;bottom: 0;left: 50%;z-index: -1;}#sk-container-id-1 div.sk-parallel-item {display: flex;flex-direction: column;z-index: 1;position: relative;background-color: white;}#sk-container-id-1 div.sk-parallel-item:first-child::after {align-self: flex-end;width: 50%;}#sk-container-id-1 div.sk-parallel-item:last-child::after {align-self: flex-start;width: 50%;}#sk-container-id-1 div.sk-parallel-item:only-child::after {width: 0;}#sk-container-id-1 div.sk-dashed-wrapped {border: 1px dashed gray;margin: 0 0.4em 0.5em 0.4em;box-sizing: border-box;padding-bottom: 0.4em;background-color: white;}#sk-container-id-1 div.sk-label label {font-family: monospace;font-weight: bold;display: inline-block;line-height: 1.2em;}#sk-container-id-1 div.sk-label-container {text-align: center;}#sk-container-id-1 div.sk-container {/* jupyter's `normalize.less` sets `[hidden] { display: none; }` but bootstrap.min.css set `[hidden] { display: none !important; }` so we also need the `!important` here to be able to override the default hidden behavior on the sphinx rendered scikit-learn.org. See: https://github.com/scikit-learn/scikit-learn/issues/21755 */display: inline-block !important;position: relative;}#sk-container-id-1 div.sk-text-repr-fallback {display: none;}</style><div id=\"sk-container-id-1\" class=\"sk-top-container\"><div class=\"sk-text-repr-fallback\"><pre>LogisticRegression(penalty=&#x27;none&#x27;, solver=&#x27;newton-cg&#x27;)</pre><b>In a Jupyter environment, please rerun this cell to show the HTML representation or trust the notebook. <br />On GitHub, the HTML representation is unable to render, please try loading this page with nbviewer.org.</b></div><div class=\"sk-container\" hidden><div class=\"sk-item\"><div class=\"sk-estimator sk-toggleable\"><input class=\"sk-toggleable__control sk-hidden--visually\" id=\"sk-estimator-id-1\" type=\"checkbox\" checked><label for=\"sk-estimator-id-1\" class=\"sk-toggleable__label sk-toggleable__label-arrow\">LogisticRegression</label><div class=\"sk-toggleable__content\"><pre>LogisticRegression(penalty=&#x27;none&#x27;, solver=&#x27;newton-cg&#x27;)</pre></div></div></div></div></div>"
            ],
            "text/plain": [
              "LogisticRegression(penalty='none', solver='newton-cg')"
            ]
          },
          "execution_count": 39,
          "metadata": {},
          "output_type": "execute_result"
        }
      ],
      "source": [
        "model_lg.fit(X_rus_1,y_rus_1)"
      ],
      "id": "3b95b89d"
    },
    {
      "cell_type": "code",
      "execution_count": null,
      "metadata": {
        "id": "fc6f67f7",
        "outputId": "99b2e6c0-f861-4f09-f5d6-46bedd2bf7e5"
      },
      "outputs": [
        {
          "name": "stdout",
          "output_type": "stream",
          "text": [
            "[1 0 0 ... 0 0 0]\n"
          ]
        }
      ],
      "source": [
        "y_pred_lg = model_lg.predict(X_test_1)\n",
        "print(y_pred_lg)"
      ],
      "id": "fc6f67f7"
    },
    {
      "cell_type": "code",
      "execution_count": null,
      "metadata": {
        "id": "3334128b",
        "outputId": "e7f4ac2c-0388-4394-fd45-1ef313d8ffd3"
      },
      "outputs": [
        {
          "name": "stdout",
          "output_type": "stream",
          "text": [
            "------------------------------------------------------\n",
            "0.5056264542448332\n"
          ]
        },
        {
          "data": {
            "text/html": [
              "<div>\n",
              "<style scoped>\n",
              "    .dataframe tbody tr th:only-of-type {\n",
              "        vertical-align: middle;\n",
              "    }\n",
              "\n",
              "    .dataframe tbody tr th {\n",
              "        vertical-align: top;\n",
              "    }\n",
              "\n",
              "    .dataframe thead th {\n",
              "        text-align: right;\n",
              "    }\n",
              "</style>\n",
              "<table border=\"1\" class=\"dataframe\">\n",
              "  <thead>\n",
              "    <tr style=\"text-align: right;\">\n",
              "      <th></th>\n",
              "      <th>Modelo</th>\n",
              "      <th>Accuracia</th>\n",
              "      <th>Recall</th>\n",
              "      <th>ROC AUC</th>\n",
              "    </tr>\n",
              "  </thead>\n",
              "  <tbody>\n",
              "    <tr>\n",
              "      <th>0</th>\n",
              "      <td>Logistic Regression</td>\n",
              "      <td>0.845123</td>\n",
              "      <td>0.139972</td>\n",
              "      <td>0.505626</td>\n",
              "    </tr>\n",
              "  </tbody>\n",
              "</table>\n",
              "</div>"
            ],
            "text/plain": [
              "                Modelo  Accuracia    Recall   ROC AUC\n",
              "0  Logistic Regression   0.845123  0.139972  0.505626"
            ]
          },
          "execution_count": 41,
          "metadata": {},
          "output_type": "execute_result"
        },
        {
          "data": {
            "image/png": "[encoded data removed]",
            "text/plain": [
              "<Figure size 640x480 with 2 Axes>"
            ]
          },
          "metadata": {},
          "output_type": "display_data"
        }
      ],
      "source": [
        "  #Models metrics\n",
        "print('------------------------------------------------------')\n",
        "#print(classification_report(y_test, y_pred_lg))\n",
        "print(roc_auc_score(y_test, y_pred_lg))\n",
        "#print(confusion_matrix(y_test, y_pred_lg))\n",
        "\n",
        "skplt.metrics.plot_confusion_matrix(y_test, y_pred_lg, normalize=True);\n",
        "aa = 'Logistic Regression'\n",
        "a = accuracy_score(y_test, y_pred_lg)\n",
        "b = recall_score(y_test, y_pred_lg)\n",
        "c = roc_auc_score(y_test, y_pred_lg)\n",
        "\n",
        "details = {\n",
        "'Modelo':[aa],\n",
        "'Accuracia' : [a],\n",
        "'Recall' : [b],\n",
        "'ROC AUC' : [c],\n",
        "}\n",
        "\n",
        "    # creating a Dataframe object\n",
        "result_lg = pd.DataFrame(details)\n",
        "result_lg"
      ],
      "id": "3334128b"
    },
    {
      "cell_type": "markdown",
      "metadata": {
        "id": "62a124d2"
      },
      "source": [
        "###  KNN"
      ],
      "id": "62a124d2"
    },
    {
      "cell_type": "code",
      "execution_count": null,
      "metadata": {
        "id": "7a291ffa"
      },
      "outputs": [],
      "source": [
        "from sklearn.neighbors import KNeighborsClassifier\n",
        "from sklearn.neighbors import NearestNeighbors"
      ],
      "id": "7a291ffa"
    },
    {
      "cell_type": "code",
      "execution_count": null,
      "metadata": {
        "id": "bd6647c6",
        "outputId": "d535fe53-8d0c-4d74-b6d4-cb2fed6ee5f2"
      },
      "outputs": [
        {
          "data": {
            "text/html": [
              "<style>#sk-container-id-2 {color: black;background-color: white;}#sk-container-id-2 pre{padding: 0;}#sk-container-id-2 div.sk-toggleable {background-color: white;}#sk-container-id-2 label.sk-toggleable__label {cursor: pointer;display: block;width: 100%;margin-bottom: 0;padding: 0.3em;box-sizing: border-box;text-align: center;}#sk-container-id-2 label.sk-toggleable__label-arrow:before {content: \"▸\";float: left;margin-right: 0.25em;color: #696969;}#sk-container-id-2 label.sk-toggleable__label-arrow:hover:before {color: black;}#sk-container-id-2 div.sk-estimator:hover label.sk-toggleable__label-arrow:before {color: black;}#sk-container-id-2 div.sk-toggleable__content {max-height: 0;max-width: 0;overflow: hidden;text-align: left;background-color: #f0f8ff;}#sk-container-id-2 div.sk-toggleable__content pre {margin: 0.2em;color: black;border-radius: 0.25em;background-color: #f0f8ff;}#sk-container-id-2 input.sk-toggleable__control:checked~div.sk-toggleable__content {max-height: 200px;max-width: 100%;overflow: auto;}#sk-container-id-2 input.sk-toggleable__control:checked~label.sk-toggleable__label-arrow:before {content: \"▾\";}#sk-container-id-2 div.sk-estimator input.sk-toggleable__control:checked~label.sk-toggleable__label {background-color: #d4ebff;}#sk-container-id-2 div.sk-label input.sk-toggleable__control:checked~label.sk-toggleable__label {background-color: #d4ebff;}#sk-container-id-2 input.sk-hidden--visually {border: 0;clip: rect(1px 1px 1px 1px);clip: rect(1px, 1px, 1px, 1px);height: 1px;margin: -1px;overflow: hidden;padding: 0;position: absolute;width: 1px;}#sk-container-id-2 div.sk-estimator {font-family: monospace;background-color: #f0f8ff;border: 1px dotted black;border-radius: 0.25em;box-sizing: border-box;margin-bottom: 0.5em;}#sk-container-id-2 div.sk-estimator:hover {background-color: #d4ebff;}#sk-container-id-2 div.sk-parallel-item::after {content: \"\";width: 100%;border-bottom: 1px solid gray;flex-grow: 1;}#sk-container-id-2 div.sk-label:hover label.sk-toggleable__label {background-color: #d4ebff;}#sk-container-id-2 div.sk-serial::before {content: \"\";position: absolute;border-left: 1px solid gray;box-sizing: border-box;top: 0;bottom: 0;left: 50%;z-index: 0;}#sk-container-id-2 div.sk-serial {display: flex;flex-direction: column;align-items: center;background-color: white;padding-right: 0.2em;padding-left: 0.2em;position: relative;}#sk-container-id-2 div.sk-item {position: relative;z-index: 1;}#sk-container-id-2 div.sk-parallel {display: flex;align-items: stretch;justify-content: center;background-color: white;position: relative;}#sk-container-id-2 div.sk-item::before, #sk-container-id-2 div.sk-parallel-item::before {content: \"\";position: absolute;border-left: 1px solid gray;box-sizing: border-box;top: 0;bottom: 0;left: 50%;z-index: -1;}#sk-container-id-2 div.sk-parallel-item {display: flex;flex-direction: column;z-index: 1;position: relative;background-color: white;}#sk-container-id-2 div.sk-parallel-item:first-child::after {align-self: flex-end;width: 50%;}#sk-container-id-2 div.sk-parallel-item:last-child::after {align-self: flex-start;width: 50%;}#sk-container-id-2 div.sk-parallel-item:only-child::after {width: 0;}#sk-container-id-2 div.sk-dashed-wrapped {border: 1px dashed gray;margin: 0 0.4em 0.5em 0.4em;box-sizing: border-box;padding-bottom: 0.4em;background-color: white;}#sk-container-id-2 div.sk-label label {font-family: monospace;font-weight: bold;display: inline-block;line-height: 1.2em;}#sk-container-id-2 div.sk-label-container {text-align: center;}#sk-container-id-2 div.sk-container {/* jupyter's `normalize.less` sets `[hidden] { display: none; }` but bootstrap.min.css set `[hidden] { display: none !important; }` so we also need the `!important` here to be able to override the default hidden behavior on the sphinx rendered scikit-learn.org. See: https://github.com/scikit-learn/scikit-learn/issues/21755 */display: inline-block !important;position: relative;}#sk-container-id-2 div.sk-text-repr-fallback {display: none;}</style><div id=\"sk-container-id-2\" class=\"sk-top-container\"><div class=\"sk-text-repr-fallback\"><pre>KNeighborsClassifier(n_neighbors=3)</pre><b>In a Jupyter environment, please rerun this cell to show the HTML representation or trust the notebook. <br />On GitHub, the HTML representation is unable to render, please try loading this page with nbviewer.org.</b></div><div class=\"sk-container\" hidden><div class=\"sk-item\"><div class=\"sk-estimator sk-toggleable\"><input class=\"sk-toggleable__control sk-hidden--visually\" id=\"sk-estimator-id-2\" type=\"checkbox\" checked><label for=\"sk-estimator-id-2\" class=\"sk-toggleable__label sk-toggleable__label-arrow\">KNeighborsClassifier</label><div class=\"sk-toggleable__content\"><pre>KNeighborsClassifier(n_neighbors=3)</pre></div></div></div></div></div>"
            ],
            "text/plain": [
              "KNeighborsClassifier(n_neighbors=3)"
            ]
          },
          "execution_count": 43,
          "metadata": {},
          "output_type": "execute_result"
        }
      ],
      "source": [
        "neigh = KNeighborsClassifier(n_neighbors=3)\n",
        "neigh.fit(X_rus_1, y_rus_1)"
      ],
      "id": "bd6647c6"
    },
    {
      "cell_type": "code",
      "execution_count": null,
      "metadata": {
        "id": "de48d565",
        "outputId": "6b9eba26-a64e-4a98-c034-9806aab74675"
      },
      "outputs": [
        {
          "name": "stdout",
          "output_type": "stream",
          "text": [
            "(array([[2.64575131, 2.64575131, 2.82842712]]), array([[324277, 347190,  22344]], dtype=int64))\n"
          ]
        }
      ],
      "source": [
        "print(neigh.kneighbors([[1., 1., 1.,1., 1., 1.,1., 1., 1.,1., 1., 1.,1., 1., 1.,1., 1.]]))"
      ],
      "id": "de48d565"
    },
    {
      "cell_type": "code",
      "execution_count": null,
      "metadata": {
        "id": "7fb670f6"
      },
      "outputs": [],
      "source": [
        "y_pred_knn = neigh.predict(X_test_1)\n",
        "print(y_pred_knn)"
      ],
      "id": "7fb670f6"
    },
    {
      "cell_type": "code",
      "execution_count": null,
      "metadata": {
        "id": "045a138c"
      },
      "outputs": [],
      "source": [
        "from sklearn.metrics import accuracy_score\n",
        "accuracy_score(y_test, y_pred_knn)"
      ],
      "id": "045a138c"
    },
    {
      "cell_type": "code",
      "execution_count": null,
      "metadata": {
        "id": "dcbc2c76"
      },
      "outputs": [],
      "source": [
        "  #Models metrics\n",
        "print(\"Relatório de Classificação:\\n\", classification_report(y_test, y_pred_dt, digits=3))\n",
        "#print(classification_report(y_test, y_pred_knn))\n",
        "print(roc_auc_score(y_test, y_pred_knn))\n",
        "print(confusion_matrix(y_test, y_pred_knn))\n",
        "\n",
        "skplt.metrics.plot_confusion_matrix(y_test, y_pred_knn, normalize=True);\n",
        "aa = 'KNN'\n",
        "a = accuracy_score(y_test, y_pred_knn)\n",
        "b = recall_score(y_test, y_pred_knn)\n",
        "c = roc_auc_score(y_test, y_pred_knn)\n",
        "\n",
        "details = {\n",
        "'Modelo':[aa],\n",
        "'Accuracia' : [a],\n",
        "'Recall' : [b],\n",
        "'ROC AUC' : [c],\n",
        "}\n",
        "\n",
        "    # creating a Dataframe object\n",
        "result_knn = pd.DataFrame(details)\n",
        "result_knn"
      ],
      "id": "dcbc2c76"
    },
    {
      "cell_type": "markdown",
      "metadata": {
        "id": "6e917fe1"
      },
      "source": [
        "## Naive Bayes e Árvore de Decisão"
      ],
      "id": "6e917fe1"
    },
    {
      "cell_type": "markdown",
      "metadata": {
        "id": "daba094f"
      },
      "source": [
        "Considerando apenas os atributos categóricos"
      ],
      "id": "daba094f"
    },
    {
      "cell_type": "markdown",
      "metadata": {
        "id": "09b27467"
      },
      "source": [
        "### Preparação dos Dados"
      ],
      "id": "09b27467"
    },
    {
      "cell_type": "code",
      "execution_count": null,
      "metadata": {
        "id": "ca362a02"
      },
      "outputs": [],
      "source": [
        "X_rus_2 = X_rus.drop(columns=['ps_ind_06_bin','ps_ind_07_bin', 'ps_ind_08_bin', 'ps_ind_09_bin', 'ps_ind_10_bin','ps_ind_11_bin', 'ps_ind_12_bin', 'ps_ind_13_bin', 'ps_ind_16_bin','ps_ind_17_bin', 'ps_ind_18_bin','ps_calc_15_bin', 'ps_calc_16_bin', 'ps_calc_17_bin','ps_calc_18_bin', 'ps_calc_19_bin', 'ps_calc_20_bin'], axis=1)"
      ],
      "id": "ca362a02"
    },
    {
      "cell_type": "code",
      "execution_count": null,
      "metadata": {
        "id": "3116b216"
      },
      "outputs": [],
      "source": [
        "X_test_2 = X_test.drop(columns=['ps_ind_06_bin','ps_ind_07_bin', 'ps_ind_08_bin', 'ps_ind_09_bin', 'ps_ind_10_bin','ps_ind_11_bin', 'ps_ind_12_bin', 'ps_ind_13_bin', 'ps_ind_16_bin','ps_ind_17_bin', 'ps_ind_18_bin','ps_calc_15_bin', 'ps_calc_16_bin', 'ps_calc_17_bin','ps_calc_18_bin', 'ps_calc_19_bin', 'ps_calc_20_bin'], axis=1)"
      ],
      "id": "3116b216"
    },
    {
      "cell_type": "markdown",
      "metadata": {
        "id": "519abb5c"
      },
      "source": [
        "### Arvore de Decisão"
      ],
      "id": "519abb5c"
    },
    {
      "cell_type": "code",
      "execution_count": null,
      "metadata": {
        "id": "b42d554a"
      },
      "outputs": [],
      "source": [
        "y_rus_2 = y_rus"
      ],
      "id": "b42d554a"
    },
    {
      "cell_type": "code",
      "execution_count": null,
      "metadata": {
        "id": "84d6d138"
      },
      "outputs": [],
      "source": [
        "DT = DecisionTreeClassifier(max_depth=9)\n",
        "DT.fit(X_rus_2, y_rus_2)\n",
        "\n",
        "y_pred_dt = DT.predict(X_test_2)"
      ],
      "id": "84d6d138"
    },
    {
      "cell_type": "code",
      "execution_count": null,
      "metadata": {
        "id": "c631affc",
        "outputId": "481e7fd3-01f6-4c09-969e-4c178c5a5b87"
      },
      "outputs": [
        {
          "name": "stdout",
          "output_type": "stream",
          "text": [
            "Relatório de Classificação:\n",
            "               precision    recall  f1-score   support\n",
            "\n",
            "           0      0.966     0.656     0.782    114716\n",
            "           1      0.041     0.392     0.075      4327\n",
            "\n",
            "    accuracy                          0.647    119043\n",
            "   macro avg      0.504     0.524     0.428    119043\n",
            "weighted avg      0.933     0.647     0.756    119043\n",
            "\n"
          ]
        },
        {
          "data": {
            "text/html": [
              "<div>\n",
              "<style scoped>\n",
              "    .dataframe tbody tr th:only-of-type {\n",
              "        vertical-align: middle;\n",
              "    }\n",
              "\n",
              "    .dataframe tbody tr th {\n",
              "        vertical-align: top;\n",
              "    }\n",
              "\n",
              "    .dataframe thead th {\n",
              "        text-align: right;\n",
              "    }\n",
              "</style>\n",
              "<table border=\"1\" class=\"dataframe\">\n",
              "  <thead>\n",
              "    <tr style=\"text-align: right;\">\n",
              "      <th></th>\n",
              "      <th>Modelo</th>\n",
              "      <th>Accuracia</th>\n",
              "      <th>Recall</th>\n",
              "      <th>ROC AUC</th>\n",
              "    </tr>\n",
              "  </thead>\n",
              "  <tbody>\n",
              "    <tr>\n",
              "      <th>0</th>\n",
              "      <td>ArvoreDecisão</td>\n",
              "      <td>0.646817</td>\n",
              "      <td>0.391726</td>\n",
              "      <td>0.524082</td>\n",
              "    </tr>\n",
              "  </tbody>\n",
              "</table>\n",
              "</div>"
            ],
            "text/plain": [
              "          Modelo  Accuracia    Recall   ROC AUC\n",
              "0  ArvoreDecisão   0.646817  0.391726  0.524082"
            ]
          },
          "execution_count": 135,
          "metadata": {},
          "output_type": "execute_result"
        },
        {
          "data": {
            "image/png": "[encoded data removed]",
            "text/plain": [
              "<Figure size 640x480 with 2 Axes>"
            ]
          },
          "metadata": {},
          "output_type": "display_data"
        }
      ],
      "source": [
        "print(\"Relatório de Classificação:\\n\", classification_report(y_test, y_pred_dt, digits=3))\n",
        "skplt.metrics.plot_confusion_matrix(y_test, y_pred_dt, normalize=True);\n",
        "\n",
        "aa = 'ArvoreDecisão'\n",
        "a = accuracy_score(y_test, y_pred_dt)\n",
        "b = recall_score(y_test, y_pred_dt)\n",
        "c = roc_auc_score(y_test, y_pred_dt)\n",
        "\n",
        "details = {\n",
        "'Modelo':[aa],\n",
        "'Accuracia' : [a],\n",
        "'Recall' : [b],\n",
        "'ROC AUC' : [c],\n",
        "}\n",
        "# creating a Dataframe object\n",
        "result_AD = pd.DataFrame(details)\n",
        "result_AD"
      ],
      "id": "c631affc"
    },
    {
      "cell_type": "markdown",
      "metadata": {
        "id": "7c3532da"
      },
      "source": [
        "### Naive Bayes"
      ],
      "id": "7c3532da"
    },
    {
      "cell_type": "code",
      "execution_count": null,
      "metadata": {
        "id": "a570b98f"
      },
      "outputs": [],
      "source": [
        "from sklearn.naive_bayes import GaussianNB"
      ],
      "id": "a570b98f"
    },
    {
      "cell_type": "code",
      "execution_count": null,
      "metadata": {
        "id": "46ceaa1e"
      },
      "outputs": [],
      "source": [
        "gnb = GaussianNB()"
      ],
      "id": "46ceaa1e"
    },
    {
      "cell_type": "code",
      "execution_count": null,
      "metadata": {
        "id": "011e6d7a"
      },
      "outputs": [],
      "source": [
        "gnb.fit(X_rus_2, y_rus_2)\n",
        "y_pred_nb = gnb.predict(X_test_2)"
      ],
      "id": "011e6d7a"
    },
    {
      "cell_type": "code",
      "execution_count": null,
      "metadata": {
        "id": "f3d7f617",
        "outputId": "d3eb98d0-f9ac-44bd-e080-ffe083d17db9"
      },
      "outputs": [
        {
          "name": "stdout",
          "output_type": "stream",
          "text": [
            "Relatório de Classificação:\n",
            "               precision    recall  f1-score   support\n",
            "\n",
            "           0      0.969     0.697     0.811    114716\n",
            "           1      0.048     0.408     0.087      4327\n",
            "\n",
            "    accuracy                          0.687    119043\n",
            "   macro avg      0.509     0.553     0.449    119043\n",
            "weighted avg      0.936     0.687     0.785    119043\n",
            "\n"
          ]
        },
        {
          "data": {
            "text/html": [
              "<div>\n",
              "<style scoped>\n",
              "    .dataframe tbody tr th:only-of-type {\n",
              "        vertical-align: middle;\n",
              "    }\n",
              "\n",
              "    .dataframe tbody tr th {\n",
              "        vertical-align: top;\n",
              "    }\n",
              "\n",
              "    .dataframe thead th {\n",
              "        text-align: right;\n",
              "    }\n",
              "</style>\n",
              "<table border=\"1\" class=\"dataframe\">\n",
              "  <thead>\n",
              "    <tr style=\"text-align: right;\">\n",
              "      <th></th>\n",
              "      <th>Modelo</th>\n",
              "      <th>Accuracia</th>\n",
              "      <th>Recall</th>\n",
              "      <th>ROC AUC</th>\n",
              "    </tr>\n",
              "  </thead>\n",
              "  <tbody>\n",
              "    <tr>\n",
              "      <th>0</th>\n",
              "      <td>Naive Bayes</td>\n",
              "      <td>0.686962</td>\n",
              "      <td>0.408135</td>\n",
              "      <td>0.552807</td>\n",
              "    </tr>\n",
              "  </tbody>\n",
              "</table>\n",
              "</div>"
            ],
            "text/plain": [
              "        Modelo  Accuracia    Recall   ROC AUC\n",
              "0  Naive Bayes   0.686962  0.408135  0.552807"
            ]
          },
          "execution_count": 141,
          "metadata": {},
          "output_type": "execute_result"
        },
        {
          "data": {
            "image/png": "[encoded data removed]",
            "text/plain": [
              "<Figure size 640x480 with 2 Axes>"
            ]
          },
          "metadata": {},
          "output_type": "display_data"
        }
      ],
      "source": [
        "print(\"Relatório de Classificação:\\n\", classification_report(y_test, y_pred_nb, digits=3))\n",
        "skplt.metrics.plot_confusion_matrix(y_test, y_pred_nb, normalize=True);\n",
        "\n",
        "aa = 'Naive Bayes'\n",
        "a = accuracy_score(y_test, y_pred_nb)\n",
        "b = recall_score(y_test, y_pred_nb)\n",
        "c = roc_auc_score(y_test, y_pred_nb)\n",
        "\n",
        "details = {\n",
        "'Modelo':[aa],\n",
        "'Accuracia' : [a],\n",
        "'Recall' : [b],\n",
        "'ROC AUC' : [c],\n",
        "}\n",
        "# creating a Dataframe object\n",
        "result_NB = pd.DataFrame(details)\n",
        "result_NB"
      ],
      "id": "f3d7f617"
    },
    {
      "cell_type": "markdown",
      "metadata": {
        "id": "8d7c2bec"
      },
      "source": [
        "## Random Forest"
      ],
      "id": "8d7c2bec"
    },
    {
      "cell_type": "markdown",
      "metadata": {
        "id": "0900a12d"
      },
      "source": [
        "Considerando todos os dados"
      ],
      "id": "0900a12d"
    },
    {
      "cell_type": "code",
      "execution_count": null,
      "metadata": {
        "id": "f8c699ef",
        "outputId": "42a2fc49-74f3-4f9b-de60-d29b31df8b5a"
      },
      "outputs": [
        {
          "name": "stdout",
          "output_type": "stream",
          "text": [
            "[0 0 0 ... 0 0 0]\n"
          ]
        }
      ],
      "source": [
        "rf = RandomForestClassifier()\n",
        "rf.fit(X_rus, y_rus)\n",
        "\n",
        "y_pred_rf = rf.predict(X_test)\n",
        "print(y_pred_rf)"
      ],
      "id": "f8c699ef"
    },
    {
      "cell_type": "code",
      "execution_count": null,
      "metadata": {
        "id": "28af286a",
        "outputId": "b872c0bd-4e58-4a93-9a16-8886faeb82c4"
      },
      "outputs": [
        {
          "name": "stdout",
          "output_type": "stream",
          "text": [
            "------------------------------------------------------\n",
            "              precision    recall  f1-score   support\n",
            "\n",
            "           0       0.96      0.95      0.96    114716\n",
            "           1       0.03      0.04      0.04      4327\n",
            "\n",
            "    accuracy                           0.92    119043\n",
            "   macro avg       0.50      0.50      0.50    119043\n",
            "weighted avg       0.93      0.92      0.93    119043\n",
            "\n",
            "0.4979237236974964\n",
            "[[109388   5328]\n",
            " [  4144    183]]\n"
          ]
        },
        {
          "data": {
            "text/html": [
              "<div>\n",
              "<style scoped>\n",
              "    .dataframe tbody tr th:only-of-type {\n",
              "        vertical-align: middle;\n",
              "    }\n",
              "\n",
              "    .dataframe tbody tr th {\n",
              "        vertical-align: top;\n",
              "    }\n",
              "\n",
              "    .dataframe thead th {\n",
              "        text-align: right;\n",
              "    }\n",
              "</style>\n",
              "<table border=\"1\" class=\"dataframe\">\n",
              "  <thead>\n",
              "    <tr style=\"text-align: right;\">\n",
              "      <th></th>\n",
              "      <th>Modelo</th>\n",
              "      <th>Accuracia</th>\n",
              "      <th>Recall</th>\n",
              "      <th>ROC AUC</th>\n",
              "    </tr>\n",
              "  </thead>\n",
              "  <tbody>\n",
              "    <tr>\n",
              "      <th>0</th>\n",
              "      <td>RandomForest</td>\n",
              "      <td>0.920432</td>\n",
              "      <td>0.042293</td>\n",
              "      <td>0.497924</td>\n",
              "    </tr>\n",
              "  </tbody>\n",
              "</table>\n",
              "</div>"
            ],
            "text/plain": [
              "         Modelo  Accuracia    Recall   ROC AUC\n",
              "0  RandomForest   0.920432  0.042293  0.497924"
            ]
          },
          "execution_count": 143,
          "metadata": {},
          "output_type": "execute_result"
        },
        {
          "data": {
            "image/png": "[encoded data removed]",
            "text/plain": [
              "<Figure size 640x480 with 2 Axes>"
            ]
          },
          "metadata": {},
          "output_type": "display_data"
        }
      ],
      "source": [
        "  #Models metrics\n",
        "print('------------------------------------------------------')\n",
        "print(classification_report(y_test, y_pred_rf))\n",
        "print(roc_auc_score(y_test, y_pred_rf))\n",
        "print(confusion_matrix(y_test, y_pred_rf))\n",
        "\n",
        "skplt.metrics.plot_confusion_matrix(y_test, y_pred_rf, normalize=True);\n",
        "aa = 'RandomForest'\n",
        "a = accuracy_score(y_test, y_pred_rf)\n",
        "b = recall_score(y_test, y_pred_rf)\n",
        "c = roc_auc_score(y_test, y_pred_rf)\n",
        "\n",
        "details = {\n",
        "'Modelo':[aa],\n",
        "'Accuracia' : [a],\n",
        "'Recall' : [b],\n",
        "'ROC AUC' : [c],\n",
        "}\n",
        "\n",
        "# creating a Dataframe object\n",
        "result_RF = pd.DataFrame(details)\n",
        "result_RF"
      ],
      "id": "28af286a"
    },
    {
      "cell_type": "code",
      "execution_count": null,
      "metadata": {
        "id": "7e2bf33f"
      },
      "outputs": [],
      "source": [
        "# Filtrando dados binarios e categóricos\n",
        "df_rf = df.copy()\n",
        "df_rf = df_rf.drop(columns=['id', 'target'], axis=1)"
      ],
      "id": "7e2bf33f"
    },
    {
      "cell_type": "code",
      "execution_count": null,
      "metadata": {
        "id": "21048af9",
        "outputId": "ba68bf08-ae7d-4528-c931-3c786e6c61ec"
      },
      "outputs": [
        {
          "data": {
            "text/html": [
              "<div>\n",
              "<style scoped>\n",
              "    .dataframe tbody tr th:only-of-type {\n",
              "        vertical-align: middle;\n",
              "    }\n",
              "\n",
              "    .dataframe tbody tr th {\n",
              "        vertical-align: top;\n",
              "    }\n",
              "\n",
              "    .dataframe thead th {\n",
              "        text-align: right;\n",
              "    }\n",
              "</style>\n",
              "<table border=\"1\" class=\"dataframe\">\n",
              "  <thead>\n",
              "    <tr style=\"text-align: right;\">\n",
              "      <th></th>\n",
              "      <th>ps_ind_01</th>\n",
              "      <th>ps_ind_02_cat</th>\n",
              "      <th>ps_ind_03</th>\n",
              "      <th>ps_ind_04_cat</th>\n",
              "      <th>ps_ind_05_cat</th>\n",
              "      <th>ps_ind_06_bin</th>\n",
              "      <th>ps_ind_07_bin</th>\n",
              "      <th>ps_ind_08_bin</th>\n",
              "      <th>ps_ind_09_bin</th>\n",
              "      <th>ps_ind_10_bin</th>\n",
              "      <th>...</th>\n",
              "      <th>ps_calc_11</th>\n",
              "      <th>ps_calc_12</th>\n",
              "      <th>ps_calc_13</th>\n",
              "      <th>ps_calc_14</th>\n",
              "      <th>ps_calc_15_bin</th>\n",
              "      <th>ps_calc_16_bin</th>\n",
              "      <th>ps_calc_17_bin</th>\n",
              "      <th>ps_calc_18_bin</th>\n",
              "      <th>ps_calc_19_bin</th>\n",
              "      <th>ps_calc_20_bin</th>\n",
              "    </tr>\n",
              "  </thead>\n",
              "  <tbody>\n",
              "    <tr>\n",
              "      <th>0</th>\n",
              "      <td>2</td>\n",
              "      <td>2</td>\n",
              "      <td>5</td>\n",
              "      <td>1</td>\n",
              "      <td>0</td>\n",
              "      <td>0</td>\n",
              "      <td>1</td>\n",
              "      <td>0</td>\n",
              "      <td>0</td>\n",
              "      <td>0</td>\n",
              "      <td>...</td>\n",
              "      <td>9</td>\n",
              "      <td>1</td>\n",
              "      <td>5</td>\n",
              "      <td>8</td>\n",
              "      <td>0</td>\n",
              "      <td>1</td>\n",
              "      <td>1</td>\n",
              "      <td>0</td>\n",
              "      <td>0</td>\n",
              "      <td>1</td>\n",
              "    </tr>\n",
              "    <tr>\n",
              "      <th>1</th>\n",
              "      <td>1</td>\n",
              "      <td>1</td>\n",
              "      <td>7</td>\n",
              "      <td>0</td>\n",
              "      <td>0</td>\n",
              "      <td>0</td>\n",
              "      <td>0</td>\n",
              "      <td>1</td>\n",
              "      <td>0</td>\n",
              "      <td>0</td>\n",
              "      <td>...</td>\n",
              "      <td>3</td>\n",
              "      <td>1</td>\n",
              "      <td>1</td>\n",
              "      <td>9</td>\n",
              "      <td>0</td>\n",
              "      <td>1</td>\n",
              "      <td>1</td>\n",
              "      <td>0</td>\n",
              "      <td>1</td>\n",
              "      <td>0</td>\n",
              "    </tr>\n",
              "    <tr>\n",
              "      <th>2</th>\n",
              "      <td>5</td>\n",
              "      <td>4</td>\n",
              "      <td>9</td>\n",
              "      <td>1</td>\n",
              "      <td>0</td>\n",
              "      <td>0</td>\n",
              "      <td>0</td>\n",
              "      <td>1</td>\n",
              "      <td>0</td>\n",
              "      <td>0</td>\n",
              "      <td>...</td>\n",
              "      <td>4</td>\n",
              "      <td>2</td>\n",
              "      <td>7</td>\n",
              "      <td>7</td>\n",
              "      <td>0</td>\n",
              "      <td>1</td>\n",
              "      <td>1</td>\n",
              "      <td>0</td>\n",
              "      <td>1</td>\n",
              "      <td>0</td>\n",
              "    </tr>\n",
              "  </tbody>\n",
              "</table>\n",
              "<p>3 rows × 57 columns</p>\n",
              "</div>"
            ],
            "text/plain": [
              "   ps_ind_01  ps_ind_02_cat  ps_ind_03  ps_ind_04_cat  ps_ind_05_cat   \n",
              "0          2              2          5              1              0  \\\n",
              "1          1              1          7              0              0   \n",
              "2          5              4          9              1              0   \n",
              "\n",
              "   ps_ind_06_bin  ps_ind_07_bin  ps_ind_08_bin  ps_ind_09_bin  ps_ind_10_bin   \n",
              "0              0              1              0              0              0  \\\n",
              "1              0              0              1              0              0   \n",
              "2              0              0              1              0              0   \n",
              "\n",
              "   ...  ps_calc_11  ps_calc_12  ps_calc_13  ps_calc_14  ps_calc_15_bin   \n",
              "0  ...           9           1           5           8               0  \\\n",
              "1  ...           3           1           1           9               0   \n",
              "2  ...           4           2           7           7               0   \n",
              "\n",
              "   ps_calc_16_bin  ps_calc_17_bin  ps_calc_18_bin  ps_calc_19_bin   \n",
              "0               1               1               0               0  \\\n",
              "1               1               1               0               1   \n",
              "2               1               1               0               1   \n",
              "\n",
              "   ps_calc_20_bin  \n",
              "0               1  \n",
              "1               0  \n",
              "2               0  \n",
              "\n",
              "[3 rows x 57 columns]"
            ]
          },
          "execution_count": 11,
          "metadata": {},
          "output_type": "execute_result"
        }
      ],
      "source": [
        "df_rf.head(3)"
      ],
      "id": "21048af9"
    },
    {
      "cell_type": "code",
      "execution_count": null,
      "metadata": {
        "id": "4575f419"
      },
      "outputs": [],
      "source": [
        "XX = df_rf\n",
        "yy = df.target\n",
        "XX_train, XX_test, yy_train, yy_test = train_test_split(XX, yy, test_size=0.2, random_state=42)"
      ],
      "id": "4575f419"
    },
    {
      "cell_type": "code",
      "execution_count": null,
      "metadata": {
        "id": "b9b51758"
      },
      "outputs": [],
      "source": [
        "#Aplicando UnderSampling\n",
        "seed = 6\n",
        "np.random.seed(seed)\n",
        "\n",
        "### SMOTE\n",
        "rus = SMOTE(random_state=seed)\n",
        "X_rus, y_rus = rus.fit_resample(XX_train, yy_train)"
      ],
      "id": "b9b51758"
    },
    {
      "cell_type": "code",
      "execution_count": null,
      "metadata": {
        "id": "1a1b02c0",
        "outputId": "38d5ad3d-9e69-480b-d0f7-a53df5d1d229"
      },
      "outputs": [
        {
          "name": "stdout",
          "output_type": "stream",
          "text": [
            "[0 0 0 ... 0 0 0]\n"
          ]
        }
      ],
      "source": [
        "rf1 = RandomForestClassifier()\n",
        "rf1.fit(X_rus, y_rus)\n",
        "\n",
        "y_pred_rf1 = rf1.predict(XX_test)\n",
        "print(y_pred_rf1)"
      ],
      "id": "1a1b02c0"
    },
    {
      "cell_type": "code",
      "execution_count": null,
      "metadata": {
        "id": "6f9b3db2",
        "outputId": "fe5a1766-5a56-43fa-de1d-e0fa502438b1"
      },
      "outputs": [
        {
          "name": "stdout",
          "output_type": "stream",
          "text": [
            "------------------------------------------------------\n",
            "0.4999802794620014\n",
            "[[114392    266]\n",
            " [  4375     10]]\n"
          ]
        },
        {
          "data": {
            "text/html": [
              "<div>\n",
              "<style scoped>\n",
              "    .dataframe tbody tr th:only-of-type {\n",
              "        vertical-align: middle;\n",
              "    }\n",
              "\n",
              "    .dataframe tbody tr th {\n",
              "        vertical-align: top;\n",
              "    }\n",
              "\n",
              "    .dataframe thead th {\n",
              "        text-align: right;\n",
              "    }\n",
              "</style>\n",
              "<table border=\"1\" class=\"dataframe\">\n",
              "  <thead>\n",
              "    <tr style=\"text-align: right;\">\n",
              "      <th></th>\n",
              "      <th>Modelo</th>\n",
              "      <th>Accuracia</th>\n",
              "      <th>Recall</th>\n",
              "      <th>ROC AUC</th>\n",
              "    </tr>\n",
              "  </thead>\n",
              "  <tbody>\n",
              "    <tr>\n",
              "      <th>0</th>\n",
              "      <td>RandomForest</td>\n",
              "      <td>0.961014</td>\n",
              "      <td>0.002281</td>\n",
              "      <td>0.49998</td>\n",
              "    </tr>\n",
              "  </tbody>\n",
              "</table>\n",
              "</div>"
            ],
            "text/plain": [
              "         Modelo  Accuracia    Recall  ROC AUC\n",
              "0  RandomForest   0.961014  0.002281  0.49998"
            ]
          },
          "execution_count": 17,
          "metadata": {},
          "output_type": "execute_result"
        },
        {
          "data": {
            "image/png": "[encoded data removed]",
            "text/plain": [
              "<Figure size 640x480 with 2 Axes>"
            ]
          },
          "metadata": {},
          "output_type": "display_data"
        }
      ],
      "source": [
        "  #Models metrics\n",
        "print('------------------------------------------------------')\n",
        "#print(classification_report(yy_test, y_pred_rf1))\n",
        "print(roc_auc_score(yy_test, y_pred_rf1))\n",
        "print(confusion_matrix(yy_test, y_pred_rf1))\n",
        "\n",
        "skplt.metrics.plot_confusion_matrix(yy_test, y_pred_rf1, normalize=True);\n",
        "aa = 'RandomForest'\n",
        "a = accuracy_score(yy_test, y_pred_rf1)\n",
        "b = recall_score(yy_test, y_pred_rf1)\n",
        "c = roc_auc_score(yy_test, y_pred_rf1)\n",
        "\n",
        "details = {\n",
        "'Modelo':[aa],\n",
        "'Accuracia' : [a],\n",
        "'Recall' : [b],\n",
        "'ROC AUC' : [c],\n",
        "}\n",
        "\n",
        "# creating a Dataframe object\n",
        "result_RF1 = pd.DataFrame(details)\n",
        "result_RF1"
      ],
      "id": "6f9b3db2"
    },
    {
      "cell_type": "code",
      "execution_count": null,
      "metadata": {
        "id": "86df7ecc"
      },
      "outputs": [],
      "source": [],
      "id": "86df7ecc"
    },
    {
      "cell_type": "markdown",
      "metadata": {
        "id": "312cfc73"
      },
      "source": [
        "# Questão 2\n",
        "\n",
        "Usando a base de dados London bike sharing para estimar o uso de bicicletas\n",
        "\n",
        "compartilhadas na cidade de Londres, pede-se:\n",
        "\n",
        "(a) Transforme a coluna ‘timestamp’ em atributo numérico para representar apenas o horário do registro;\n",
        "\n",
        "(b) Crie bases de treinamento e teste;\n",
        "\n",
        "(c) Crie um modelo de regressão linear para estimar o valor da coluna ‘cnt’ (quantidade de bicicletas). Qual o erro médio quadrático entre as predições e o valor real na base de testes?\n",
        "\n",
        "(d) Codifique duas arquiteturas de Rede Neural (a primeira com uma camada escondida e a segunda com duas) para estimar o valor da coluna ‘cnt’ (quantidade de bicicletas). Qual o erro médio quadrático entre as predições e o valor real na base de testes?\n",
        "\n",
        "(e) Discuta os resultados obtidos com cada uma das redes. A rede mais profunda gerou os melhores resultados? Justifique as funções de ativação escolhidas;"
      ],
      "id": "312cfc73"
    },
    {
      "cell_type": "markdown",
      "metadata": {
        "id": "3b042563"
      },
      "source": [
        "## Transforma a coluna 'timestamp' em atributo numerico (horário)"
      ],
      "id": "3b042563"
    },
    {
      "cell_type": "code",
      "execution_count": null,
      "metadata": {
        "id": "XLYQZIp37rSO"
      },
      "outputs": [],
      "source": [
        "df = pd.read_csv('london.csv')"
      ],
      "id": "XLYQZIp37rSO"
    },
    {
      "cell_type": "code",
      "execution_count": null,
      "metadata": {
        "id": "f0e20c90"
      },
      "outputs": [],
      "source": [
        "# extraindo horas do timestamp\n",
        "\n",
        "df['timestamp'] = pd.to_datetime(df['timestamp'])\n",
        "df['horas'] = dfx['timestamp'].dt.hour"
      ],
      "id": "f0e20c90"
    },
    {
      "cell_type": "code",
      "execution_count": null,
      "metadata": {
        "id": "403158cc",
        "outputId": "34cab1cc-7266-418b-891d-0682df1e0c41"
      },
      "outputs": [
        {
          "data": {
            "text/html": [
              "<div>\n",
              "<style scoped>\n",
              "    .dataframe tbody tr th:only-of-type {\n",
              "        vertical-align: middle;\n",
              "    }\n",
              "\n",
              "    .dataframe tbody tr th {\n",
              "        vertical-align: top;\n",
              "    }\n",
              "\n",
              "    .dataframe thead th {\n",
              "        text-align: right;\n",
              "    }\n",
              "</style>\n",
              "<table border=\"1\" class=\"dataframe\">\n",
              "  <thead>\n",
              "    <tr style=\"text-align: right;\">\n",
              "      <th></th>\n",
              "      <th>timestamp</th>\n",
              "      <th>cnt</th>\n",
              "      <th>t1</th>\n",
              "      <th>t2</th>\n",
              "      <th>hum</th>\n",
              "      <th>wind_speed</th>\n",
              "      <th>weather_code</th>\n",
              "      <th>is_holiday</th>\n",
              "      <th>is_weekend</th>\n",
              "      <th>season</th>\n",
              "      <th>horas</th>\n",
              "    </tr>\n",
              "  </thead>\n",
              "  <tbody>\n",
              "    <tr>\n",
              "      <th>0</th>\n",
              "      <td>2015-01-04 00:00:00</td>\n",
              "      <td>182</td>\n",
              "      <td>3.0</td>\n",
              "      <td>2.0</td>\n",
              "      <td>93.0</td>\n",
              "      <td>6.0</td>\n",
              "      <td>3.0</td>\n",
              "      <td>0.0</td>\n",
              "      <td>1.0</td>\n",
              "      <td>3.0</td>\n",
              "      <td>0</td>\n",
              "    </tr>\n",
              "    <tr>\n",
              "      <th>1</th>\n",
              "      <td>2015-01-04 01:00:00</td>\n",
              "      <td>138</td>\n",
              "      <td>3.0</td>\n",
              "      <td>2.5</td>\n",
              "      <td>93.0</td>\n",
              "      <td>5.0</td>\n",
              "      <td>1.0</td>\n",
              "      <td>0.0</td>\n",
              "      <td>1.0</td>\n",
              "      <td>3.0</td>\n",
              "      <td>1</td>\n",
              "    </tr>\n",
              "    <tr>\n",
              "      <th>2</th>\n",
              "      <td>2015-01-04 02:00:00</td>\n",
              "      <td>134</td>\n",
              "      <td>2.5</td>\n",
              "      <td>2.5</td>\n",
              "      <td>96.5</td>\n",
              "      <td>0.0</td>\n",
              "      <td>1.0</td>\n",
              "      <td>0.0</td>\n",
              "      <td>1.0</td>\n",
              "      <td>3.0</td>\n",
              "      <td>2</td>\n",
              "    </tr>\n",
              "    <tr>\n",
              "      <th>3</th>\n",
              "      <td>2015-01-04 03:00:00</td>\n",
              "      <td>72</td>\n",
              "      <td>2.0</td>\n",
              "      <td>2.0</td>\n",
              "      <td>100.0</td>\n",
              "      <td>0.0</td>\n",
              "      <td>1.0</td>\n",
              "      <td>0.0</td>\n",
              "      <td>1.0</td>\n",
              "      <td>3.0</td>\n",
              "      <td>3</td>\n",
              "    </tr>\n",
              "    <tr>\n",
              "      <th>4</th>\n",
              "      <td>2015-01-04 04:00:00</td>\n",
              "      <td>47</td>\n",
              "      <td>2.0</td>\n",
              "      <td>0.0</td>\n",
              "      <td>93.0</td>\n",
              "      <td>6.5</td>\n",
              "      <td>1.0</td>\n",
              "      <td>0.0</td>\n",
              "      <td>1.0</td>\n",
              "      <td>3.0</td>\n",
              "      <td>4</td>\n",
              "    </tr>\n",
              "  </tbody>\n",
              "</table>\n",
              "</div>"
            ],
            "text/plain": [
              "            timestamp  cnt   t1   t2    hum  wind_speed  weather_code   \n",
              "0 2015-01-04 00:00:00  182  3.0  2.0   93.0         6.0           3.0  \\\n",
              "1 2015-01-04 01:00:00  138  3.0  2.5   93.0         5.0           1.0   \n",
              "2 2015-01-04 02:00:00  134  2.5  2.5   96.5         0.0           1.0   \n",
              "3 2015-01-04 03:00:00   72  2.0  2.0  100.0         0.0           1.0   \n",
              "4 2015-01-04 04:00:00   47  2.0  0.0   93.0         6.5           1.0   \n",
              "\n",
              "   is_holiday  is_weekend  season  horas  \n",
              "0         0.0         1.0     3.0      0  \n",
              "1         0.0         1.0     3.0      1  \n",
              "2         0.0         1.0     3.0      2  \n",
              "3         0.0         1.0     3.0      3  \n",
              "4         0.0         1.0     3.0      4  "
            ]
          },
          "execution_count": 60,
          "metadata": {},
          "output_type": "execute_result"
        }
      ],
      "source": [
        "df.head()"
      ],
      "id": "403158cc"
    },
    {
      "cell_type": "markdown",
      "metadata": {
        "id": "23c07ee7"
      },
      "source": [
        "## Criar bases de treinamento e teste"
      ],
      "id": "23c07ee7"
    },
    {
      "cell_type": "code",
      "execution_count": null,
      "metadata": {
        "id": "01a48351"
      },
      "outputs": [],
      "source": [
        "df1 = df.copy()\n",
        "# Filtrando dados binarios e categóricos\n",
        "df1 = df1.drop(columns=['timestamp','cnt'], axis=1)"
      ],
      "id": "01a48351"
    },
    {
      "cell_type": "code",
      "execution_count": null,
      "metadata": {
        "id": "16a56f60",
        "outputId": "c5f7ff76-a1c7-4f7f-d716-6c01ed165594"
      },
      "outputs": [
        {
          "data": {
            "text/plain": [
              "Index(['t1', 't2', 'hum', 'wind_speed', 'weather_code', 'is_holiday',\n",
              "       'is_weekend', 'season', 'horas'],\n",
              "      dtype='object')"
            ]
          },
          "execution_count": 65,
          "metadata": {},
          "output_type": "execute_result"
        }
      ],
      "source": [
        "df1.columns"
      ],
      "id": "16a56f60"
    },
    {
      "cell_type": "code",
      "execution_count": null,
      "metadata": {
        "id": "d8015007"
      },
      "outputs": [],
      "source": [
        "# Criando base de treinamento e teste\n",
        "X = df1\n",
        "y = df.cnt\n",
        "\n",
        "X_train, X_test, y_train, y_test = train_test_split(X, y, test_size=0.2, random_state=42)"
      ],
      "id": "d8015007"
    },
    {
      "cell_type": "markdown",
      "metadata": {
        "id": "b4a60293"
      },
      "source": [
        "## Regressão Linear"
      ],
      "id": "b4a60293"
    },
    {
      "cell_type": "code",
      "execution_count": null,
      "metadata": {
        "id": "069a8b47"
      },
      "outputs": [],
      "source": [
        "#treinando o modelo\n",
        "model_lr = LinearRegression().fit(X_train, y_train)"
      ],
      "id": "069a8b47"
    },
    {
      "cell_type": "code",
      "execution_count": null,
      "metadata": {
        "id": "a9d25d5d"
      },
      "outputs": [],
      "source": [
        "# Predisao Modelo\n",
        "yhat = model_lr.predict(X_test)"
      ],
      "id": "a9d25d5d"
    },
    {
      "cell_type": "code",
      "execution_count": null,
      "metadata": {
        "id": "cddb329e"
      },
      "outputs": [],
      "source": [
        "def ml_error(model_name, y, yhat):\n",
        "    mae = mean_absolute_error(y,yhat)\n",
        "    mape = mean_absolute_percentage_error(y, yhat)\n",
        "    rmse = np.sqrt(mean_squared_error(y, yhat))\n",
        "\n",
        "    return pd.DataFrame({'Modelo Name': model_name,\n",
        "                     'MAE': mae,\n",
        "                     'MAPE': mape,\n",
        "                     'RMSE': rmse}, index=[0])"
      ],
      "id": "cddb329e"
    },
    {
      "cell_type": "code",
      "execution_count": null,
      "metadata": {
        "id": "7107f555",
        "outputId": "5797e875-2f6a-4f78-9172-fc22c8f15191"
      },
      "outputs": [
        {
          "data": {
            "text/html": [
              "<div>\n",
              "<style scoped>\n",
              "    .dataframe tbody tr th:only-of-type {\n",
              "        vertical-align: middle;\n",
              "    }\n",
              "\n",
              "    .dataframe tbody tr th {\n",
              "        vertical-align: top;\n",
              "    }\n",
              "\n",
              "    .dataframe thead th {\n",
              "        text-align: right;\n",
              "    }\n",
              "</style>\n",
              "<table border=\"1\" class=\"dataframe\">\n",
              "  <thead>\n",
              "    <tr style=\"text-align: right;\">\n",
              "      <th></th>\n",
              "      <th>Modelo Name</th>\n",
              "      <th>MAE</th>\n",
              "      <th>MAPE</th>\n",
              "      <th>RMSE</th>\n",
              "    </tr>\n",
              "  </thead>\n",
              "  <tbody>\n",
              "    <tr>\n",
              "      <th>0</th>\n",
              "      <td>Linear Regression</td>\n",
              "      <td>669.002115</td>\n",
              "      <td>2.177909</td>\n",
              "      <td>922.302938</td>\n",
              "    </tr>\n",
              "  </tbody>\n",
              "</table>\n",
              "</div>"
            ],
            "text/plain": [
              "         Modelo Name         MAE      MAPE        RMSE\n",
              "0  Linear Regression  669.002115  2.177909  922.302938"
            ]
          },
          "execution_count": 87,
          "metadata": {},
          "output_type": "execute_result"
        }
      ],
      "source": [
        "# Performace\n",
        "lr_result = ml_error('Linear Regression', y_test, yhat)\n",
        "lr_result"
      ],
      "id": "7107f555"
    },
    {
      "cell_type": "code",
      "execution_count": null,
      "metadata": {
        "id": "41ea19c3"
      },
      "outputs": [],
      "source": [],
      "id": "41ea19c3"
    }
  ],
  "metadata": {
    "colab": {
      "provenance": [],
      "include_colab_link": true
    },
    "kernelspec": {
      "display_name": "Python 3 (ipykernel)",
      "language": "python",
      "name": "python3"
    },
    "language_info": {
      "codemirror_mode": {
        "name": "ipython",
        "version": 3
      },
      "file_extension": ".py",
      "mimetype": "text/x-python",
      "name": "python",
      "nbconvert_exporter": "python",
      "pygments_lexer": "ipython3",
      "version": "3.9.16"
    },
    "varInspector": {
      "cols": {
        "lenName": 16,
        "lenType": 16,
        "lenVar": 40
      },
      "kernels_config": {
        "python": {
          "delete_cmd_postfix": "",
          "delete_cmd_prefix": "del ",
          "library": "var_list.py",
          "varRefreshCmd": "print(var_dic_list())"
        },
        "r": {
          "delete_cmd_postfix": ") ",
          "delete_cmd_prefix": "rm(",
          "library": "var_list.r",
          "varRefreshCmd": "cat(var_dic_list()) "
        }
      },
      "types_to_exclude": [
        "module",
        "function",
        "builtin_function_or_method",
        "instance",
        "_Feature"
      ],
      "window_display": false
    }
  },
  "nbformat": 4,
  "nbformat_minor": 5
}